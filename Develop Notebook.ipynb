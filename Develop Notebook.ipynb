{
 "cells": [
  {
   "cell_type": "markdown",
   "metadata": {},
   "source": [
    "# Sudoku solver developing notebook"
   ]
  },
  {
   "cell_type": "code",
   "execution_count": 1,
   "metadata": {},
   "outputs": [],
   "source": [
    "using Revise"
   ]
  },
  {
   "cell_type": "code",
   "execution_count": 2,
   "metadata": {},
   "outputs": [
    {
     "data": {
      "text/plain": [
       "parse_sudoku (generic function with 1 method)"
      ]
     },
     "execution_count": 2,
     "metadata": {},
     "output_type": "execute_result"
    }
   ],
   "source": [
    "function parse_sudoku(s)\n",
    "    arrC = filter(x->!isspace(x), collect(s))\n",
    "    grid = map(arrC) do c\n",
    "        if c in \"0.\"\n",
    "            ' '\n",
    "        else\n",
    "            c\n",
    "        end\n",
    "    end\n",
    "    grid = permutedims(reshape(grid, (9,9)), [2 1])\n",
    "end"
   ]
  },
  {
   "cell_type": "code",
   "execution_count": 3,
   "metadata": {},
   "outputs": [
    {
     "data": {
      "text/plain": [
       "9×9 Array{Char,2}:\n",
       " ' '  ' '  ' '  ' '  ' '  ' '  ' '  ' '  ' '\n",
       " ' '  ' '  ' '  ' '  ' '  ' '  ' '  ' '  ' '\n",
       " ' '  ' '  ' '  ' '  ' '  ' '  ' '  ' '  ' '\n",
       " ' '  ' '  ' '  ' '  ' '  ' '  ' '  ' '  ' '\n",
       " ' '  ' '  ' '  ' '  ' '  ' '  ' '  ' '  ' '\n",
       " ' '  ' '  ' '  ' '  ' '  ' '  ' '  ' '  ' '\n",
       " ' '  ' '  ' '  ' '  ' '  ' '  ' '  ' '  ' '\n",
       " ' '  ' '  ' '  ' '  ' '  ' '  ' '  ' '  ' '\n",
       " ' '  ' '  ' '  ' '  ' '  ' '  ' '  ' '  ' '"
      ]
     },
     "execution_count": 3,
     "metadata": {},
     "output_type": "execute_result"
    }
   ],
   "source": [
    "grid = parse_sudoku(\".\"^81)\n",
    "grid[:,:]"
   ]
  },
  {
   "cell_type": "code",
   "execution_count": 4,
   "metadata": {},
   "outputs": [
    {
     "data": {
      "text/plain": [
       "read_all (generic function with 1 method)"
      ]
     },
     "execution_count": 4,
     "metadata": {},
     "output_type": "execute_result"
    }
   ],
   "source": [
    "file = \"test/sudoku-hardest.txt\"\n",
    "function read_all(file::String)\n",
    "    games = read(file, String)\n",
    "    split(games)\n",
    "end"
   ]
  },
  {
   "cell_type": "code",
   "execution_count": 5,
   "metadata": {},
   "outputs": [
    {
     "data": {
      "text/plain": [
       "9×9 Array{Char,2}:\n",
       " '8'  '5'  ' '  ' '  ' '  '2'  '4'  ' '  ' '\n",
       " '7'  '2'  ' '  ' '  ' '  ' '  ' '  ' '  '9'\n",
       " ' '  ' '  '4'  ' '  ' '  ' '  ' '  ' '  ' '\n",
       " ' '  ' '  ' '  '1'  ' '  '7'  ' '  ' '  '2'\n",
       " '3'  ' '  '5'  ' '  ' '  ' '  '9'  ' '  ' '\n",
       " ' '  '4'  ' '  ' '  ' '  ' '  ' '  ' '  ' '\n",
       " ' '  ' '  ' '  ' '  '8'  ' '  ' '  '7'  ' '\n",
       " ' '  '1'  '7'  ' '  ' '  ' '  ' '  ' '  ' '\n",
       " ' '  ' '  ' '  ' '  '3'  '6'  ' '  '4'  ' '"
      ]
     },
     "execution_count": 5,
     "metadata": {},
     "output_type": "execute_result"
    }
   ],
   "source": [
    "games = read_all(file)\n",
    "grid = parse_sudoku(games[1])"
   ]
  },
  {
   "cell_type": "code",
   "execution_count": 6,
   "metadata": {},
   "outputs": [
    {
     "data": {
      "text/plain": [
       "(3, 1)"
      ]
     },
     "execution_count": 6,
     "metadata": {},
     "output_type": "execute_result"
    }
   ],
   "source": [
    "box_from_index(indexes) = (indexes .- 1) .÷ 3 .+ 1\n",
    "box_from_index((7,3))"
   ]
  },
  {
   "cell_type": "code",
   "execution_count": 7,
   "metadata": {},
   "outputs": [
    {
     "data": {
      "text/plain": [
       "3×3 CartesianIndices{2,Tuple{UnitRange{Int64},UnitRange{Int64}}}:\n",
       " CartesianIndex(7, 4)  CartesianIndex(7, 5)  CartesianIndex(7, 6)\n",
       " CartesianIndex(8, 4)  CartesianIndex(8, 5)  CartesianIndex(8, 6)\n",
       " CartesianIndex(9, 4)  CartesianIndex(9, 5)  CartesianIndex(9, 6)"
      ]
     },
     "execution_count": 7,
     "metadata": {},
     "output_type": "execute_result"
    }
   ],
   "source": [
    "function indexes_of_box(box)\n",
    "    start = (box .- 1) .* 3 .+ 1\n",
    "    CartesianIndex(start .- 1) .+ CartesianIndices((3,3))\n",
    "end\n",
    "indexes_of_box((3,2))"
   ]
  },
  {
   "cell_type": "code",
   "execution_count": 8,
   "metadata": {},
   "outputs": [
    {
     "data": {
      "text/plain": [
       "3×3 CartesianIndices{2,Tuple{UnitRange{Int64},UnitRange{Int64}}}:\n",
       " CartesianIndex(4, 4)  CartesianIndex(4, 5)  CartesianIndex(4, 6)\n",
       " CartesianIndex(5, 4)  CartesianIndex(5, 5)  CartesianIndex(5, 6)\n",
       " CartesianIndex(6, 4)  CartesianIndex(6, 5)  CartesianIndex(6, 6)"
      ]
     },
     "execution_count": 8,
     "metadata": {},
     "output_type": "execute_result"
    }
   ],
   "source": [
    "get_box_peers(index) = indexes_of_box(box_from_index(index))\n",
    "get_box_peers((5,5))"
   ]
  },
  {
   "cell_type": "code",
   "execution_count": 9,
   "metadata": {},
   "outputs": [
    {
     "data": {
      "text/plain": [
       "3×3 Array{Char,2}:\n",
       " '8'  '5'  ' '\n",
       " '7'  '2'  ' '\n",
       " ' '  ' '  '4'"
      ]
     },
     "execution_count": 9,
     "metadata": {},
     "output_type": "execute_result"
    }
   ],
   "source": [
    "x = get_box_peers((1,1))\n",
    "grid[x]"
   ]
  },
  {
   "cell_type": "code",
   "execution_count": 10,
   "metadata": {},
   "outputs": [
    {
     "data": {
      "text/plain": [
       "3-element Array{Array{CartesianIndex{2},1},1}:\n",
       " [CartesianIndex(5, 1), CartesianIndex(5, 2), CartesianIndex(5, 3), CartesianIndex(5, 4), CartesianIndex(5, 5), CartesianIndex(5, 6), CartesianIndex(5, 7), CartesianIndex(5, 8), CartesianIndex(5, 9)]\n",
       " [CartesianIndex(1, 5), CartesianIndex(2, 5), CartesianIndex(3, 5), CartesianIndex(4, 5), CartesianIndex(5, 5), CartesianIndex(6, 5), CartesianIndex(7, 5), CartesianIndex(8, 5), CartesianIndex(9, 5)]\n",
       " [CartesianIndex(4, 4), CartesianIndex(5, 4), CartesianIndex(6, 4), CartesianIndex(4, 5), CartesianIndex(5, 5), CartesianIndex(6, 5), CartesianIndex(4, 6), CartesianIndex(5, 6), CartesianIndex(6, 6)]"
      ]
     },
     "execution_count": 10,
     "metadata": {},
     "output_type": "execute_result"
    }
   ],
   "source": [
    "function get_unitlist(index)\n",
    "    row = [CartesianIndex((index[1], i)) for i in [1:9;]]\n",
    "    col = [CartesianIndex((i, index[2])) for i in [1:9;]]\n",
    "    box = get_box_peers(index)[:]\n",
    "    [row, col, box]\n",
    "end\n",
    "unit = get_unitlist((5,5))"
   ]
  },
  {
   "cell_type": "code",
   "execution_count": 11,
   "metadata": {},
   "outputs": [
    {
     "data": {
      "text/plain": [
       "20-element Array{CartesianIndex{2},1}:\n",
       " CartesianIndex(2, 5)\n",
       " CartesianIndex(3, 5)\n",
       " CartesianIndex(4, 5)\n",
       " CartesianIndex(6, 5)\n",
       " CartesianIndex(5, 6)\n",
       " CartesianIndex(1, 5)\n",
       " CartesianIndex(6, 4)\n",
       " CartesianIndex(5, 3)\n",
       " CartesianIndex(5, 1)\n",
       " CartesianIndex(9, 5)\n",
       " CartesianIndex(5, 4)\n",
       " CartesianIndex(7, 5)\n",
       " CartesianIndex(5, 2)\n",
       " CartesianIndex(8, 5)\n",
       " CartesianIndex(4, 4)\n",
       " CartesianIndex(5, 7)\n",
       " CartesianIndex(5, 8)\n",
       " CartesianIndex(6, 6)\n",
       " CartesianIndex(4, 6)\n",
       " CartesianIndex(5, 9)"
      ]
     },
     "execution_count": 11,
     "metadata": {},
     "output_type": "execute_result"
    }
   ],
   "source": [
    "function get_peers(index)\n",
    "    [x for x in Set(vcat(get_unitlist(index)...)) if x != CartesianIndex(index)]\n",
    "end\n",
    "peers = get_peers((5,5))"
   ]
  },
  {
   "cell_type": "code",
   "execution_count": 12,
   "metadata": {},
   "outputs": [
    {
     "data": {
      "text/plain": [
       "Dict{CartesianIndex{2},Array{CartesianIndex{2},1}} with 81 entries:\n",
       "  CartesianIndex(8, 4) => CartesianIndex{2}[CartesianIndex(8, 3), CartesianInde…\n",
       "  CartesianIndex(3, 6) => CartesianIndex{2}[CartesianIndex(3, 2), CartesianInde…\n",
       "  CartesianIndex(5, 6) => CartesianIndex{2}[CartesianIndex(1, 6), CartesianInde…\n",
       "  CartesianIndex(4, 1) => CartesianIndex{2}[CartesianIndex(7, 1), CartesianInde…\n",
       "  CartesianIndex(9, 1) => CartesianIndex{2}[CartesianIndex(7, 1), CartesianInde…\n",
       "  CartesianIndex(4, 2) => CartesianIndex{2}[CartesianIndex(4, 5), CartesianInde…\n",
       "  CartesianIndex(2, 2) => CartesianIndex{2}[CartesianIndex(3, 2), CartesianInde…\n",
       "  CartesianIndex(5, 7) => CartesianIndex{2}[CartesianIndex(6, 7), CartesianInde…\n",
       "  CartesianIndex(7, 4) => CartesianIndex{2}[CartesianIndex(1, 4), CartesianInde…\n",
       "  CartesianIndex(2, 5) => CartesianIndex{2}[CartesianIndex(3, 5), CartesianInde…\n",
       "  CartesianIndex(8, 3) => CartesianIndex{2}[CartesianIndex(8, 4), CartesianInde…\n",
       "  CartesianIndex(8, 6) => CartesianIndex{2}[CartesianIndex(8, 3), CartesianInde…\n",
       "  CartesianIndex(1, 1) => CartesianIndex{2}[CartesianIndex(1, 4), CartesianInde…\n",
       "  CartesianIndex(5, 1) => CartesianIndex{2}[CartesianIndex(7, 1), CartesianInde…\n",
       "  CartesianIndex(1, 3) => CartesianIndex{2}[CartesianIndex(1, 4), CartesianInde…\n",
       "  CartesianIndex(3, 4) => CartesianIndex{2}[CartesianIndex(3, 6), CartesianInde…\n",
       "  CartesianIndex(1, 9) => CartesianIndex{2}[CartesianIndex(1, 4), CartesianInde…\n",
       "  CartesianIndex(9, 8) => CartesianIndex{2}[CartesianIndex(6, 8), CartesianInde…\n",
       "  CartesianIndex(3, 2) => CartesianIndex{2}[CartesianIndex(3, 6), CartesianInde…\n",
       "  CartesianIndex(4, 7) => CartesianIndex{2}[CartesianIndex(6, 7), CartesianInde…\n",
       "  CartesianIndex(7, 8) => CartesianIndex{2}[CartesianIndex(6, 8), CartesianInde…\n",
       "  CartesianIndex(1, 5) => CartesianIndex{2}[CartesianIndex(1, 4), CartesianInde…\n",
       "  CartesianIndex(7, 9) => CartesianIndex{2}[CartesianIndex(9, 8), CartesianInde…\n",
       "  CartesianIndex(8, 8) => CartesianIndex{2}[CartesianIndex(8, 3), CartesianInde…\n",
       "  CartesianIndex(7, 7) => CartesianIndex{2}[CartesianIndex(6, 7), CartesianInde…\n",
       "  ⋮                    => ⋮"
      ]
     },
     "execution_count": 12,
     "metadata": {},
     "output_type": "execute_result"
    }
   ],
   "source": [
    "squares = CartesianIndices((9,9))\n",
    "peers = Dict([(x, get_peers(x.I)) for x in squares])"
   ]
  },
  {
   "cell_type": "code",
   "execution_count": 13,
   "metadata": {},
   "outputs": [
    {
     "data": {
      "text/plain": [
       "20-element Array{Char,1}:\n",
       " ' '\n",
       " '2'\n",
       " ' '\n",
       " ' '\n",
       " ' '\n",
       " ' '\n",
       " ' '\n",
       " ' '\n",
       " '3'\n",
       " '4'\n",
       " '5'\n",
       " '4'\n",
       " ' '\n",
       " '2'\n",
       " ' '\n",
       " ' '\n",
       " ' '\n",
       " '7'\n",
       " ' '\n",
       " ' '"
      ]
     },
     "execution_count": 13,
     "metadata": {},
     "output_type": "execute_result"
    }
   ],
   "source": [
    "grid[peers[CartesianIndex(1, 1)]]"
   ]
  },
  {
   "cell_type": "code",
   "execution_count": 14,
   "metadata": {},
   "outputs": [
    {
     "data": {
      "text/plain": [
       "Dict{CartesianIndex{2},Array{Array{CartesianIndex{2},1},1}} with 81 entries:\n",
       "  CartesianIndex(8, 4) => Array{CartesianIndex{2},1}[[CartesianIndex(8, 1), Car…\n",
       "  CartesianIndex(3, 6) => Array{CartesianIndex{2},1}[[CartesianIndex(3, 1), Car…\n",
       "  CartesianIndex(5, 6) => Array{CartesianIndex{2},1}[[CartesianIndex(5, 1), Car…\n",
       "  CartesianIndex(4, 1) => Array{CartesianIndex{2},1}[[CartesianIndex(4, 1), Car…\n",
       "  CartesianIndex(9, 1) => Array{CartesianIndex{2},1}[[CartesianIndex(9, 1), Car…\n",
       "  CartesianIndex(4, 2) => Array{CartesianIndex{2},1}[[CartesianIndex(4, 1), Car…\n",
       "  CartesianIndex(2, 2) => Array{CartesianIndex{2},1}[[CartesianIndex(2, 1), Car…\n",
       "  CartesianIndex(5, 7) => Array{CartesianIndex{2},1}[[CartesianIndex(5, 1), Car…\n",
       "  CartesianIndex(7, 4) => Array{CartesianIndex{2},1}[[CartesianIndex(7, 1), Car…\n",
       "  CartesianIndex(2, 5) => Array{CartesianIndex{2},1}[[CartesianIndex(2, 1), Car…\n",
       "  CartesianIndex(8, 3) => Array{CartesianIndex{2},1}[[CartesianIndex(8, 1), Car…\n",
       "  CartesianIndex(8, 6) => Array{CartesianIndex{2},1}[[CartesianIndex(8, 1), Car…\n",
       "  CartesianIndex(1, 1) => Array{CartesianIndex{2},1}[[CartesianIndex(1, 1), Car…\n",
       "  CartesianIndex(5, 1) => Array{CartesianIndex{2},1}[[CartesianIndex(5, 1), Car…\n",
       "  CartesianIndex(1, 3) => Array{CartesianIndex{2},1}[[CartesianIndex(1, 1), Car…\n",
       "  CartesianIndex(3, 4) => Array{CartesianIndex{2},1}[[CartesianIndex(3, 1), Car…\n",
       "  CartesianIndex(1, 9) => Array{CartesianIndex{2},1}[[CartesianIndex(1, 1), Car…\n",
       "  CartesianIndex(9, 8) => Array{CartesianIndex{2},1}[[CartesianIndex(9, 1), Car…\n",
       "  CartesianIndex(3, 2) => Array{CartesianIndex{2},1}[[CartesianIndex(3, 1), Car…\n",
       "  CartesianIndex(4, 7) => Array{CartesianIndex{2},1}[[CartesianIndex(4, 1), Car…\n",
       "  CartesianIndex(7, 8) => Array{CartesianIndex{2},1}[[CartesianIndex(7, 1), Car…\n",
       "  CartesianIndex(1, 5) => Array{CartesianIndex{2},1}[[CartesianIndex(1, 1), Car…\n",
       "  CartesianIndex(7, 9) => Array{CartesianIndex{2},1}[[CartesianIndex(7, 1), Car…\n",
       "  CartesianIndex(8, 8) => Array{CartesianIndex{2},1}[[CartesianIndex(8, 1), Car…\n",
       "  CartesianIndex(7, 7) => Array{CartesianIndex{2},1}[[CartesianIndex(7, 1), Car…\n",
       "  ⋮                    => ⋮"
      ]
     },
     "execution_count": 14,
     "metadata": {},
     "output_type": "execute_result"
    }
   ],
   "source": [
    "units = Dict([(x, get_unitlist(x.I)) for x in CartesianIndices((9,9))[:]])"
   ]
  },
  {
   "cell_type": "code",
   "execution_count": 15,
   "metadata": {},
   "outputs": [
    {
     "data": {
      "text/plain": [
       "9×9 Array{Array{Char,1},2}:\n",
       " ['8']                                          …  ['1', '2', '3', '4', '5', '6', '7', '8', '9']\n",
       " ['7']                                             ['9']                                        \n",
       " ['1', '2', '3', '4', '5', '6', '7', '8', '9']     ['1', '2', '3', '4', '5', '6', '7', '8', '9']\n",
       " ['1', '2', '3', '4', '5', '6', '7', '8', '9']     ['2']                                        \n",
       " ['3']                                             ['1', '2', '3', '4', '5', '6', '7', '8', '9']\n",
       " ['1', '2', '3', '4', '5', '6', '7', '8', '9']  …  ['1', '2', '3', '4', '5', '6', '7', '8', '9']\n",
       " ['1', '2', '3', '4', '5', '6', '7', '8', '9']     ['1', '2', '3', '4', '5', '6', '7', '8', '9']\n",
       " ['1', '2', '3', '4', '5', '6', '7', '8', '9']     ['1', '2', '3', '4', '5', '6', '7', '8', '9']\n",
       " ['1', '2', '3', '4', '5', '6', '7', '8', '9']     ['1', '2', '3', '4', '5', '6', '7', '8', '9']"
      ]
     },
     "execution_count": 15,
     "metadata": {},
     "output_type": "execute_result"
    }
   ],
   "source": [
    "nums =  [c for c in \"123456789\"]\n",
    "function possible_solutions(grid)\n",
    "    grid = map(grid) do c\n",
    "        if c == ' '\n",
    "            nums\n",
    "        else\n",
    "            [c]\n",
    "        end\n",
    "    end           \n",
    "end\n",
    "possible_solutions(grid)"
   ]
  },
  {
   "cell_type": "code",
   "execution_count": 16,
   "metadata": {},
   "outputs": [
    {
     "data": {
      "text/plain": [
       "constraint1step (generic function with 1 method)"
      ]
     },
     "execution_count": 16,
     "metadata": {},
     "output_type": "execute_result"
    }
   ],
   "source": [
    "function constraint1step(grid)\n",
    "    grid= copy(grid)\n",
    "    for s in squares \n",
    "        values = grid[s]\n",
    "        len = length(values)\n",
    "        \n",
    "        if len == 1 # if square has only a value, the peers remove it\n",
    "            grid[peers[s]] = map(grid[peers[s]]) do set\n",
    "                setdiff(set, values)\n",
    "            end\n",
    "        elseif len == 0 # if square has zero values is inconsistent\n",
    "            return grid, false    \n",
    "        end\n",
    "            \n",
    "        for u in units[s] # if unit has only one place for value assign it\n",
    "            for c in nums\n",
    "                cs = [s for s in u if c in grid[s]]\n",
    "                n_places = length(cs)\n",
    "                if n_places == 1\n",
    "                    grid[cs[1]] = [c]\n",
    "                elseif n_places == 0 # if zero inconsistent\n",
    "                    grid, false\n",
    "                end\n",
    "            end\n",
    "        end\n",
    "    end\n",
    "    grid, true\n",
    "end"
   ]
  },
  {
   "cell_type": "code",
   "execution_count": 17,
   "metadata": {},
   "outputs": [
    {
     "data": {
      "text/plain": [
       "constraint (generic function with 1 method)"
      ]
     },
     "execution_count": 17,
     "metadata": {},
     "output_type": "execute_result"
    }
   ],
   "source": [
    "function constraint(grid)\n",
    "    grid, valid = constraint1step(grid)\n",
    "    if !valid || all(map(length, grid) .== 1)\n",
    "        return grid, valid\n",
    "    end\n",
    "\n",
    "    next_grid, next_valid = constraint1step(grid)\n",
    "\n",
    "    if all(grid .== next_grid) && next_valid # fixed-pont\n",
    "        return grid, true\n",
    "    end\n",
    "\n",
    "    if !valid || all(map(length, grid) .== 1)\n",
    "        return grid, valid\n",
    "    end\n",
    "    \n",
    "    constraint(next_grid)\n",
    "end"
   ]
  },
  {
   "cell_type": "code",
   "execution_count": 18,
   "metadata": {},
   "outputs": [
    {
     "data": {
      "text/plain": [
       "9×9 Array{Array{Char,1},2}:\n",
       " ['4']  ['8']  ['3']  ['9']  ['2']  ['1']  ['6']  ['5']  ['7']\n",
       " ['9']  ['6']  ['7']  ['3']  ['4']  ['5']  ['8']  ['2']  ['1']\n",
       " ['2']  ['5']  ['1']  ['8']  ['7']  ['6']  ['4']  ['9']  ['3']\n",
       " ['5']  ['4']  ['8']  ['1']  ['3']  ['2']  ['9']  ['7']  ['6']\n",
       " ['7']  ['2']  ['9']  ['5']  ['6']  ['4']  ['1']  ['3']  ['8']\n",
       " ['1']  ['3']  ['6']  ['7']  ['9']  ['8']  ['2']  ['4']  ['5']\n",
       " ['3']  ['7']  ['2']  ['6']  ['8']  ['9']  ['5']  ['1']  ['4']\n",
       " ['8']  ['1']  ['4']  ['2']  ['5']  ['3']  ['7']  ['6']  ['9']\n",
       " ['6']  ['9']  ['5']  ['4']  ['1']  ['7']  ['3']  ['8']  ['2']"
      ]
     },
     "execution_count": 18,
     "metadata": {},
     "output_type": "execute_result"
    }
   ],
   "source": [
    "grid = parse_sudoku(\"003020600900305001001806400008102900700000008006708200002609500800203009005010300\")\n",
    "grid_all = possible_solutions(grid)\n",
    "constraint(grid_all)[1]"
   ]
  },
  {
   "cell_type": "code",
   "execution_count": 82,
   "metadata": {},
   "outputs": [
    {
     "data": {
      "text/plain": [
       "search (generic function with 1 method)"
      ]
     },
     "execution_count": 82,
     "metadata": {},
     "output_type": "execute_result"
    }
   ],
   "source": [
    "function search((grid, valid))\n",
    "    if !valid || all(map(length, grid) .== 1)\n",
    "        return grid, valid\n",
    "    end\n",
    "    \n",
    "     #minimum remaining values\n",
    "    _, s = minimum([(length(grid[s]), s) for s in squares if length(grid[s]) >1])\n",
    "    \n",
    "    res1step = map(grid[s]) do v\n",
    "        tmp = copy(grid)\n",
    "        tmp[s] = [v]\n",
    "        constraint(tmp)\n",
    "    end\n",
    "    resNstep = search.(res1step)\n",
    "\n",
    "    reduce(resNstep, init=(grid, false)) do res1, res2\n",
    "        if res1[2]\n",
    "            res1\n",
    "        else\n",
    "            res2\n",
    "        end\n",
    "    end\n",
    "        \n",
    "end"
   ]
  },
  {
   "cell_type": "code",
   "execution_count": 83,
   "metadata": {},
   "outputs": [
    {
     "data": {
      "text/plain": [
       "solve (generic function with 1 method)"
      ]
     },
     "execution_count": 83,
     "metadata": {},
     "output_type": "execute_result"
    }
   ],
   "source": [
    "function solve(grid)\n",
    "    grid = possible_solutions(copy(grid))\n",
    "    grid, valid = constraint(grid)\n",
    "\n",
    "    search((grid, valid))\n",
    "end"
   ]
  },
  {
   "cell_type": "code",
   "execution_count": 84,
   "metadata": {},
   "outputs": [
    {
     "data": {
      "text/plain": [
       "check_sol (generic function with 1 method)"
      ]
     },
     "execution_count": 84,
     "metadata": {},
     "output_type": "execute_result"
    }
   ],
   "source": [
    "function check_sol((grid, valid))\n",
    "    if valid\n",
    "        getindex.(grid, 1)\n",
    "    else\n",
    "        grid, valid\n",
    "    end\n",
    "end"
   ]
  },
  {
   "cell_type": "code",
   "execution_count": 88,
   "metadata": {},
   "outputs": [
    {
     "data": {
      "text/plain": [
       "9×9 Array{Array{Char,1},2}:\n",
       " ['8']  ['5']  ['9']  ['6']  ['1']  ['2']  ['4']  ['3']  ['7']\n",
       " ['7']  ['2']  ['3']  ['8']  ['5']  ['4']  ['1']  ['6']  ['9']\n",
       " ['1']  ['6']  ['4']  ['3']  ['7']  ['9']  ['5']  ['2']  ['8']\n",
       " ['9']  ['8']  ['6']  ['1']  ['4']  ['7']  ['3']  ['5']  ['2']\n",
       " ['3']  ['7']  ['5']  ['2']  ['6']  ['8']  ['9']  ['1']  ['4']\n",
       " ['2']  ['4']  ['1']  ['5']  ['9']  ['3']  ['7']  ['8']  ['6']\n",
       " ['4']  ['3']  ['2']  ['9']  ['8']  ['1']  ['6']  ['7']  ['5']\n",
       " ['6']  ['1']  ['7']  ['4']  ['2']  ['5']  ['8']  ['9']  ['3']\n",
       " ['5']  ['9']  ['8']  ['7']  ['3']  ['6']  ['2']  ['4']  ['1']"
      ]
     },
     "execution_count": 88,
     "metadata": {},
     "output_type": "execute_result"
    }
   ],
   "source": [
    "solve(parse_sudoku(games[1]))[1]"
   ]
  }
 ],
 "metadata": {
  "kernelspec": {
   "display_name": "Julia 1.1.0",
   "language": "julia",
   "name": "julia-1.1"
  },
  "language_info": {
   "file_extension": ".jl",
   "mimetype": "application/julia",
   "name": "julia",
   "version": "1.1.0"
  }
 },
 "nbformat": 4,
 "nbformat_minor": 2
}
